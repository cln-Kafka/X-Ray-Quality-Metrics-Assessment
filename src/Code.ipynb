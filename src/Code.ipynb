{
 "cells": [
  {
   "cell_type": "code",
   "execution_count": null,
   "metadata": {},
   "outputs": [],
   "source": [
    "%pip install numpy matplotlib scikit-image pillow ipywidgets"
   ]
  },
  {
   "cell_type": "code",
   "execution_count": null,
   "metadata": {},
   "outputs": [],
   "source": [
    "import numpy as np\n",
    "import matplotlib.pyplot as plt\n",
    "from PIL import Image\n",
    "from skimage import exposure\n",
    "from scipy.ndimage import gaussian_filter\n",
    "import ipywidgets as widgets\n",
    "from ipywidgets import interact"
   ]
  },
  {
   "cell_type": "code",
   "execution_count": null,
   "metadata": {},
   "outputs": [],
   "source": [
    "# ----- Helper Functions to Compute Metrics for an ROI with Background as the Rest of the Image -----\n",
    "def compute_roi_snr(signal_roi, background_pixels):\n",
    "    \"\"\"\n",
    "    Compute SNR as the ratio of the mean signal in the signal ROI\n",
    "    to the standard deviation of the background (all pixels outside the ROI).\n",
    "    \"\"\"\n",
    "    mean_signal = np.mean(signal_roi)\n",
    "    std_background = np.std(background_pixels)\n",
    "    return mean_signal / std_background if std_background != 0 else np.nan"
   ]
  },
  {
   "cell_type": "code",
   "execution_count": null,
   "metadata": {},
   "outputs": [],
   "source": [
    "def compute_roi_cnr(signal_roi, background_pixels):\n",
    "    \"\"\"\n",
    "    Compute CNR as the difference between the signal and background means,\n",
    "    divided by the standard deviation of the background.\n",
    "    \"\"\"\n",
    "    mean_signal = np.mean(signal_roi)\n",
    "    mean_background = np.mean(background_pixels)\n",
    "    std_background = np.std(background_pixels)\n",
    "    return (mean_signal - mean_background) / std_background if std_background != 0 else np.nan"
   ]
  },
  {
   "cell_type": "code",
   "execution_count": null,
   "metadata": {},
   "outputs": [],
   "source": [
    "def compute_roi_resolution(signal_roi):\n",
    "    \"\"\"\n",
    "    Compute a global measure of spatial resolution via Fourier analysis on the signal ROI.\n",
    "    A sharper image tends to have more high-frequency content.\n",
    "    Here we use the mean magnitude of the shifted Fourier spectrum as a rough indicator.\n",
    "    \"\"\"\n",
    "    fft_image = np.fft.fft2(signal_roi)\n",
    "    fft_shifted = np.fft.fftshift(fft_image)\n",
    "    magnitude_spectrum = np.abs(fft_shifted)\n",
    "    return np.mean(magnitude_spectrum)"
   ]
  },
  {
   "cell_type": "code",
   "execution_count": null,
   "metadata": {},
   "outputs": [],
   "source": [
    "# ----- Load and Normalize the Image -----\n",
    "img = Image.open('/home/kareem-noureddine/Work/GitHub_Repos/X-Ray-Task/testing_environment/assets/data/person1000_bacteria_2931.jpeg').convert('L')\n",
    "image = np.array(img, dtype=np.float32)\n",
    "image_norm = exposure.rescale_intensity(image, out_range=(0, 1))\n",
    "rows, cols = image_norm.shape"
   ]
  },
  {
   "cell_type": "code",
   "execution_count": null,
   "metadata": {},
   "outputs": [],
   "source": [
    "def update_simulation(noise_level=0.1, blur_sigma=3, contrast_factor=1.0, \n",
    "                      signal_x=50, signal_y=50, signal_width=200, signal_height=200):\n",
    "    # --- Apply simulation to the entire image ---\n",
    "    # Step 1: Add synthetic Gaussian noise\n",
    "    noisy_image = image_norm + np.random.normal(0, noise_level, image_norm.shape)\n",
    "    noisy_image = np.clip(noisy_image, 0, 1)\n",
    "    \n",
    "    # Step 2: Apply Gaussian blur\n",
    "    blurred_image = gaussian_filter(noisy_image, sigma=blur_sigma)\n",
    "    \n",
    "    # Step 3: Adjust contrast (scaling differences from the mean intensity)\n",
    "    mean_val = np.mean(blurred_image)\n",
    "    adjusted_image = mean_val + contrast_factor * (blurred_image - mean_val)\n",
    "    adjusted_image = np.clip(adjusted_image, 0, 1)\n",
    "    \n",
    "    # --- Extract Signal ROI ---\n",
    "    signal_x = int(np.clip(signal_x, 0, cols-1))\n",
    "    signal_y = int(np.clip(signal_y, 0, rows-1))\n",
    "    signal_width = int(np.clip(signal_width, 10, cols - signal_x))\n",
    "    signal_height = int(np.clip(signal_height, 10, rows - signal_y))\n",
    "    \n",
    "    signal_roi = adjusted_image[signal_y:signal_y+signal_height, signal_x:signal_x+signal_width]\n",
    "    \n",
    "    # Define background as all pixels outside the signal ROI\n",
    "    mask = np.ones_like(adjusted_image, dtype=bool)\n",
    "    mask[signal_y:signal_y+signal_height, signal_x:signal_x+signal_width] = False\n",
    "    background_pixels = adjusted_image[mask]\n",
    "    \n",
    "    # Compute metrics\n",
    "    snr = compute_roi_snr(signal_roi, background_pixels)\n",
    "    cnr = compute_roi_cnr(signal_roi, background_pixels)\n",
    "    resolution = compute_roi_resolution(signal_roi)\n",
    "    \n",
    "    # --- Visualization ---\n",
    "    fig, ax = plt.subplots(2, 2, figsize=(18, 12))\n",
    "    \n",
    "    # Show full original image with signal ROI overlay\n",
    "    ax[0, 0].imshow(image_norm, cmap='gray')\n",
    "    ax[0, 0].set_title(\"Original Normalized Image\")\n",
    "    rect_orig = plt.Rectangle((signal_x, signal_y), signal_width, signal_height, \n",
    "                              edgecolor='red', facecolor='none', linewidth=2, label='Signal ROI')\n",
    "    ax[0, 0].add_patch(rect_orig)\n",
    "    ax[0, 0].legend()\n",
    "    ax[0, 0].axis('off')\n",
    "    \n",
    "    # Show full simulated image with signal ROI overlay\n",
    "    ax[0, 1].imshow(adjusted_image, cmap='gray')\n",
    "    ax[0, 1].set_title(f\"Simulated Image\\nNoise: {noise_level}, Blur: {blur_sigma}, Contrast: {contrast_factor}\")\n",
    "    rect_sim = plt.Rectangle((signal_x, signal_y), signal_width, signal_height, \n",
    "                             edgecolor='red', facecolor='none', linewidth=2)\n",
    "    ax[0, 1].add_patch(rect_sim)\n",
    "    ax[0, 1].axis('off')\n",
    "    \n",
    "    # Zoom-in on Signal ROI from simulated image\n",
    "    ax[1, 0].imshow(signal_roi, cmap='gray')\n",
    "    ax[1, 0].set_title(\"Signal ROI (Simulated)\")\n",
    "    ax[1, 0].axis('off')\n",
    "    \n",
    "    # Zoom-in on Background: Display the background mask overlay on the simulated image\n",
    "    # (Here we show the simulated image with the signal ROI masked out)\n",
    "    background_image = adjusted_image.copy()\n",
    "    background_image[~mask] = 0  # set signal ROI area to 0 for visualization\n",
    "    ax[1, 1].imshow(background_image, cmap='gray')\n",
    "    ax[1, 1].set_title(\"Background (Rest of Image)\")\n",
    "    ax[1, 1].axis('off')\n",
    "    \n",
    "    plt.tight_layout()\n",
    "    plt.show()\n",
    "    \n",
    "    # Print computed metrics for the Signal ROI with background as the rest of the image\n",
    "    print(\"Computed Metrics on Signal ROI (Background = rest of image):\")\n",
    "    print(f\"  SNR: {snr:.2f}\")\n",
    "    print(f\"  CNR: {cnr:.2f}\")\n",
    "    print(f\"  Spatial Resolution (mean FT magnitude): {resolution:.2f}\")"
   ]
  },
  {
   "cell_type": "code",
   "execution_count": null,
   "metadata": {},
   "outputs": [],
   "source": [
    "# Create interactive sliders with expanded ranges for system parameters and signal ROI.\n",
    "interact(update_simulation,\n",
    "         noise_level=widgets.FloatSlider(min=0, max=1.0, step=0.01, value=0.1, description=\"Noise Level\"),\n",
    "         blur_sigma=widgets.FloatSlider(min=0, max=20, step=0.1, value=3, description=\"Blur Sigma\"),\n",
    "         contrast_factor=widgets.FloatSlider(min=0.5, max=3.0, step=0.05, value=1.0, description=\"Contrast Factor\"),\n",
    "         signal_x=widgets.IntSlider(min=0, max=cols-1, step=1, value=50, description=\"Signal ROI X\"),\n",
    "         signal_y=widgets.IntSlider(min=0, max=rows-1, step=1, value=50, description=\"Signal ROI Y\"),\n",
    "         signal_width=widgets.IntSlider(min=10, max=cols, step=1, value=200, description=\"Signal ROI Width\"),\n",
    "         signal_height=widgets.IntSlider(min=10, max=rows, step=1, value=200, description=\"Signal ROI Height\"))"
   ]
  },
  {
   "cell_type": "code",
   "execution_count": null,
   "metadata": {},
   "outputs": [],
   "source": []
  }
 ],
 "metadata": {
  "kernelspec": {
   "display_name": "testing_environment",
   "language": "python",
   "name": "python3"
  },
  "language_info": {
   "codemirror_mode": {
    "name": "ipython",
    "version": 3
   },
   "file_extension": ".py",
   "mimetype": "text/x-python",
   "name": "python",
   "nbconvert_exporter": "python",
   "pygments_lexer": "ipython3",
   "version": "3.12.8"
  }
 },
 "nbformat": 4,
 "nbformat_minor": 2
}
